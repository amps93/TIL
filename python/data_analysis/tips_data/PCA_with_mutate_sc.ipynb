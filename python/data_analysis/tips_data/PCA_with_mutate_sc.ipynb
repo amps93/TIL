{
 "cells": [
  {
   "cell_type": "markdown",
   "id": "baf2f49f-48b1-433b-96af-3a148873addb",
   "metadata": {},
   "source": [
    "# PCA with mutate standardization"
   ]
  },
  {
   "cell_type": "code",
   "execution_count": null,
   "id": "296b1dba-8d6e-4f15-9ab0-d6c91f9e69e4",
   "metadata": {},
   "outputs": [],
   "source": [
    "import pymysql.cursors\n",
    "import pandas as pd\n",
    "import pandas_profiling\n",
    "import numpy as np\n",
    "from numpy import isnan\n",
    "from sklearn.impute import SimpleImputer\n",
    "from sklearn.feature_selection import RFE, SelectKBest, f_regression\n",
    "# from sklearn.tree import DecisionTreeClassifier #타겟 변수가 0과 1일 때\n",
    "from sklearn.svm import SVR #타겟 변수가 numeric 일 때\n",
    "from sklearn.preprocessing import MinMaxScaler, StandardScaler\n",
    "from sklearn.datasets import make_classification, make_regression\n",
    "from sklearn.decomposition import PCA"
   ]
  },
  {
   "cell_type": "markdown",
   "id": "2e9677fa-04c1-44bd-86e6-9c1725de705e",
   "metadata": {},
   "source": [
    "## 1. Data read from sql"
   ]
  },
  {
   "cell_type": "code",
   "execution_count": null,
   "id": "6602711d-863a-4747-9ca4-f3b2f81d90b2",
   "metadata": {},
   "outputs": [],
   "source": [
    "conn = pymysql.connect(host='localhost', user='amps',\n",
    "                       password='123123', db='tip', charset='utf8',\n",
    "                       autocommit=True, cursorclass=pymysql.cursors.DictCursor)\n",
    "try:\n",
    "   with conn.cursor() as curs:\n",
    "      sql = \"SELECT * FROM tips;\"\n",
    "      curs.execute(sql)\n",
    "      rs = curs.fetchall()\n",
    "\n",
    "      # DB에서 받아온 값을 DataFrame에 넣음\n",
    "      df = pd.DataFrame(rs)\n",
    "      # print(df)\n",
    "finally:\n",
    "   conn.close()"
   ]
  },
  {
   "cell_type": "code",
   "execution_count": null,
   "id": "6b23d179-1599-4157-a763-b7c984da0d43",
   "metadata": {},
   "outputs": [],
   "source": [
    "df.columns"
   ]
  },
  {
   "cell_type": "markdown",
   "id": "7b64022b-98b8-4f85-8209-33ff8dc9589b",
   "metadata": {},
   "source": [
    "## 2. encoding and add variable"
   ]
  },
  {
   "cell_type": "code",
   "execution_count": null,
   "id": "91a8a26b-93d7-4a77-9099-4c5f596cda33",
   "metadata": {},
   "outputs": [],
   "source": [
    "#범주형 변수 연속형 변수로 인코딩\n",
    "df['sex'].replace({'Female':0, 'Male':1}, inplace = True)\n",
    "df['smoker'].replace({'No':0, 'Yes':1}, inplace = True)\n",
    "df['day'].replace({'Thur':0, 'Fri':1, 'Sat':2, 'Sun':3}, inplace = True)\n",
    "df['time'].replace({'Lunch':0, 'Dinner':1}, inplace = True)\n",
    "# df.replace('',np.nan, inplace=True) #''데이터가 있으면 nan값으로 대체 (공백 데이터가 있으면 아래 impute과정에서 오류 발생)\n",
    "df['tip_rate'] = ((df['tip']/df['total_bill'])*100).round(2)\n",
    "print(df.isnull().sum()) # df에 null값이 있는지 확인"
   ]
  },
  {
   "cell_type": "markdown",
   "id": "b41e7c31-a3ed-4de4-8ac7-be7235b30ba9",
   "metadata": {},
   "source": [
    "## 3. nan processing"
   ]
  },
  {
   "cell_type": "code",
   "execution_count": null,
   "id": "d238e304-9136-4f73-a6c0-ec911457cf70",
   "metadata": {},
   "outputs": [],
   "source": [
    "data = df.values # DataFrame to array\n",
    "imputer = SimpleImputer(strategy='median') #중앙값으로 null값 대체\n",
    "imputer.fit(data)\n",
    "data_trans = imputer.transform(data) #null값이 없는 imputed dataset\n",
    "# data_trans[:,5] #데이터에 null값이 있는지 확인\n",
    "print('flatten 후 null값 확인 : ',sum(isnan(data_trans).flatten()))"
   ]
  },
  {
   "cell_type": "markdown",
   "id": "a1ad5872-6b85-418b-983f-8eae03bd1d88",
   "metadata": {},
   "source": [
    "## 3_1 before standardization"
   ]
  },
  {
   "cell_type": "code",
   "execution_count": null,
   "id": "ab7919a0-6a6d-42b3-b306-74dbefbc1bae",
   "metadata": {},
   "outputs": [],
   "source": [
    "#define the transform\n",
    "trans = PCA(n_components = 4) #feature를 4개만 뽑음\n",
    "#transform the data\n",
    "X_dim = trans.fit_transform(data_trans)\n",
    "#summarize data after the transform\n",
    "print(X_dim[:3,:]) #4개의 feature의 첫 3줄이 나옴"
   ]
  },
  {
   "cell_type": "code",
   "execution_count": null,
   "id": "75bdc2a1-4d23-47bb-85d6-242b9eaa6858",
   "metadata": {},
   "outputs": [],
   "source": [
    "pca_trans = pd.DataFrame(X_dim)"
   ]
  },
  {
   "cell_type": "code",
   "execution_count": null,
   "id": "da572e93-cd09-4a72-9bc1-0ec97588536c",
   "metadata": {},
   "outputs": [],
   "source": [
    "pca_trans.profile_report()"
   ]
  },
  {
   "cell_type": "markdown",
   "id": "913e6c92-d706-485b-aa43-6b3c626f5db3",
   "metadata": {},
   "source": [
    "## 4. standardiztion"
   ]
  },
  {
   "cell_type": "code",
   "execution_count": null,
   "id": "b6ac3564-8b9c-415d-b52a-d3677dff6655",
   "metadata": {},
   "outputs": [],
   "source": [
    "sc=StandardScaler()"
   ]
  },
  {
   "cell_type": "code",
   "execution_count": null,
   "id": "03a7fe42-6fb0-4751-86bb-ee3e1d639fc1",
   "metadata": {},
   "outputs": [],
   "source": [
    "data_sc=sc.fit_transform(data_trans)"
   ]
  },
  {
   "cell_type": "code",
   "execution_count": null,
   "id": "4fdc4a08-24d5-43c4-bbe6-85754a3f2d7a",
   "metadata": {},
   "outputs": [],
   "source": [
    "df_sc = pd.DataFrame(data_sc, columns = ['total_bill', 'tip', 'sex', 'smoker', 'day', 'time', 'size', 'tip_rate'] )"
   ]
  },
  {
   "cell_type": "code",
   "execution_count": null,
   "id": "a33774f7-61e8-4030-9cc9-7fdbbaeb31df",
   "metadata": {
    "tags": []
   },
   "outputs": [],
   "source": [
    "df_sc.describe()"
   ]
  },
  {
   "cell_type": "markdown",
   "id": "3176e89b-7144-4b18-9581-f3c962f5e80f",
   "metadata": {},
   "source": [
    "## 5. before pca"
   ]
  },
  {
   "cell_type": "markdown",
   "id": "064a2e32-ad60-41eb-a681-6ff3606bdba1",
   "metadata": {},
   "source": [
    "## 6. PCA"
   ]
  },
  {
   "cell_type": "code",
   "execution_count": null,
   "id": "ff0b5ffe-467d-47b4-9168-e9eea85c6d94",
   "metadata": {},
   "outputs": [],
   "source": [
    "#define the transform\n",
    "trans = PCA(n_components = 4) #feature를 4개만 뽑음\n",
    "#transform the data\n",
    "X_norm_dim = trans.fit_transform(df_sc.values)\n",
    "#summarize data after the transform\n",
    "print(X_norm_dim[:3,:]) #4개의 feature의 첫 3줄이 나옴"
   ]
  },
  {
   "cell_type": "code",
   "execution_count": null,
   "id": "f271d3ab-0e9e-4abb-837d-fec316bd4101",
   "metadata": {
    "tags": []
   },
   "outputs": [],
   "source": [
    "trans.components_"
   ]
  },
  {
   "cell_type": "code",
   "execution_count": null,
   "id": "85198871-b13c-4f7a-b5fc-06805173d2b9",
   "metadata": {},
   "outputs": [],
   "source": [
    "trans.explained_variance_ratio_.cumsum()"
   ]
  },
  {
   "cell_type": "code",
   "execution_count": null,
   "id": "65565a9e-f3a0-470d-b692-ef2583232cf5",
   "metadata": {},
   "outputs": [],
   "source": [
    "trans.explained_variance_ratio_"
   ]
  },
  {
   "cell_type": "code",
   "execution_count": null,
   "id": "80b7fab4-cc3a-4c17-858f-5b87a9f6abda",
   "metadata": {
    "tags": []
   },
   "outputs": [],
   "source": [
    "trans.explained_variance_ratio_.sum()"
   ]
  },
  {
   "cell_type": "code",
   "execution_count": null,
   "id": "0c7a9c51-7c28-4532-94d3-95b29846f8ff",
   "metadata": {},
   "outputs": [],
   "source": [
    "'''\n",
    "import pandas as pd\n",
    "import pylab as pl\n",
    "from sklearn import datasets\n",
    "from sklearn.decomposition import PCA\n",
    "from sklearn import preprocessing\n",
    "\n",
    "df1 = pd.DataFrame(data_trans, columns = ['total_bill', 'tip', 'sex', 'smoker', 'day', 'time', 'size'])\n",
    "df1.head()\n",
    "\n",
    "# PCA\n",
    "trans = PCA(n_components=4)\n",
    "trans.fit_transform(X_dim)\n",
    "\n",
    "# Dump components relations with features:\n",
    "# print(pd.DataFrame(trans.components_,columns=X_dim.columns))\n",
    "'''"
   ]
  },
  {
   "cell_type": "code",
   "execution_count": null,
   "id": "8be3a8f1-d88b-42d2-a85a-3d5630d40ce2",
   "metadata": {},
   "outputs": [],
   "source": [
    "pca_trans = pd.DataFrame(X_dim)"
   ]
  },
  {
   "cell_type": "code",
   "execution_count": null,
   "id": "8f3e9024-7b89-4074-be5c-c268df9f103b",
   "metadata": {},
   "outputs": [],
   "source": [
    "pca_trans.profile_report()"
   ]
  },
  {
   "cell_type": "code",
   "execution_count": null,
   "id": "dc11b1be-46ea-4395-865d-6f15d2ea4e06",
   "metadata": {},
   "outputs": [],
   "source": []
  }
 ],
 "metadata": {
  "kernelspec": {
   "display_name": "Python Multi",
   "language": "python",
   "name": "multi"
  },
  "language_info": {
   "codemirror_mode": {
    "name": "ipython",
    "version": 3
   },
   "file_extension": ".py",
   "mimetype": "text/x-python",
   "name": "python",
   "nbconvert_exporter": "python",
   "pygments_lexer": "ipython3",
   "version": "3.7.6"
  }
 },
 "nbformat": 4,
 "nbformat_minor": 5
}
